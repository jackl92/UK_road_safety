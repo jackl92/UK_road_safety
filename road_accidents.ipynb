{
 "cells": [
  {
   "cell_type": "markdown",
   "id": "ddbfa4e8",
   "metadata": {},
   "source": [
    "<h1>UK Road Safety Analysis</h1>\n",
    "\n",
    "<p>This notebook analyzes road accident data in the UK. The goal is to identify trends and patterns to improve road safety.</p>\n",
    "\n",
    "<h2>Data Overview</h2>\n",
    "<ul>\n",
    "  <li>Date: The date of the accident.</li>\n",
    "  <li>Location: The location of the accident.</li>\n",
    "  <li>Severity: The severity of the accident.</li>\n",
    "</ul>\n",
    "\n",
    "<h2>Analysis</h2>\n",
    "<ol>\n",
    "  <li>Data Cleaning</li>\n",
    "  <li>Exploratory Data Analysis (EDA)</li>\n",
    "  <li>Visualization</li>\n",
    "  <li>Conclusion</li>\n",
    "</ol>"
   ]
  },
  {
   "cell_type": "code",
   "execution_count": null,
   "id": "234e301a",
   "metadata": {},
   "outputs": [],
   "source": [
    "import pandas as pd\n",
    "import numpy as np\n",
    "import matplotlib.pyplot as plt"
   ]
  }
 ],
 "metadata": {
  "kernelspec": {
   "display_name": "Python 3",
   "language": "python",
   "name": "python3"
  },
  "language_info": {
   "name": "python",
   "version": "3.11.4"
  }
 },
 "nbformat": 4,
 "nbformat_minor": 5
}
